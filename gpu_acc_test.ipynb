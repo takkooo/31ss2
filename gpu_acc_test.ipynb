{
 "cells": [
  {
   "cell_type": "code",
   "execution_count": 22,
   "metadata": {},
   "outputs": [],
   "source": [
    "import torch\n",
    "import numpy as np\n",
    "from scipy import signal\n",
    "import pickle\n",
    "import timeit"
   ]
  },
  {
   "cell_type": "code",
   "execution_count": 23,
   "metadata": {},
   "outputs": [
    {
     "name": "stdout",
     "output_type": "stream",
     "text": [
      "dict_keys(['data_list', 'gps_lock_flag', 'real_lat', 'real_lon', 'real_alt'])\n"
     ]
    }
   ],
   "source": [
    "# 读取数据\n",
    "with open('data\\\\180007_1695193424_2023-09-20_15-03-44.pkl', 'rb') as f:\n",
    "    data = pickle.load(f)\n",
    "    \n",
    "print(data.keys())"
   ]
  },
  {
   "cell_type": "code",
   "execution_count": 24,
   "metadata": {},
   "outputs": [
    {
     "name": "stdout",
     "output_type": "stream",
     "text": [
      "complex64\n",
      "5000000\n"
     ]
    }
   ],
   "source": [
    "complex_data = data['data_list'][0][\"recv_data\"]\n",
    "print(complex_data.dtype)\n",
    "print(complex_data.shape[0])\n",
    "complex_data = complex_data[20000:520000]"
   ]
  },
  {
   "cell_type": "code",
   "execution_count": 25,
   "metadata": {},
   "outputs": [],
   "source": [
    "# # numpy corr\n",
    "# start_time = timeit.default_timer()\n",
    "\n",
    "# np_correlate = np.correlate(complex_data, complex_data, mode='full')\n",
    "\n",
    "# end_time = timeit.default_timer()\n",
    "# duration = end_time - start_time\n",
    "# print(f\"运行时长: {duration} 秒\")"
   ]
  },
  {
   "cell_type": "code",
   "execution_count": 26,
   "metadata": {},
   "outputs": [
    {
     "name": "stdout",
     "output_type": "stream",
     "text": [
      "运行时长: 0.05523659999926167 秒\n"
     ]
    }
   ],
   "source": [
    "# scipy corr\n",
    "start_time = timeit.default_timer()\n",
    "\n",
    "scipy_correlate = signal.correlate(complex_data, complex_data, mode='full')\n",
    "\n",
    "end_time = timeit.default_timer()\n",
    "duration = end_time - start_time\n",
    "print(f\"运行时长: {duration} 秒\")\n",
    "\n",
    "# 调用了INTEL MKL库"
   ]
  },
  {
   "cell_type": "code",
   "execution_count": 27,
   "metadata": {},
   "outputs": [
    {
     "name": "stdout",
     "output_type": "stream",
     "text": [
      "torch.complex64\n",
      "运行时长: 0.031870700000581564 秒\n"
     ]
    }
   ],
   "source": [
    "# torch corr cpu\n",
    "M = complex_data.shape[0]\n",
    "N = complex_data.shape[0]\n",
    "\n",
    "start_time = timeit.default_timer()\n",
    "\n",
    "\n",
    "x = torch.from_numpy(complex_data)\n",
    "print(x.dtype)\n",
    "\n",
    "cpu_torch_correlate = torch.fft.ifft((torch.fft.fft(x, n=M+N-1))*torch.conj(torch.fft.fft(x, n=M+N-1)))\n",
    "\n",
    "end_time = timeit.default_timer()\n",
    "duration = end_time - start_time\n",
    "print(f\"运行时长: {duration} 秒\")"
   ]
  },
  {
   "cell_type": "code",
   "execution_count": 28,
   "metadata": {},
   "outputs": [
    {
     "name": "stdout",
     "output_type": "stream",
     "text": [
      "True\n",
      "torch.complex64\n",
      "运行时长: 0.006664900000032503 秒\n"
     ]
    }
   ],
   "source": [
    "print(torch.cuda.is_available())\n",
    "\n",
    "M = complex_data.shape[0]\n",
    "N = complex_data.shape[0]\n",
    "\n",
    "start_time = timeit.default_timer()\n",
    "\n",
    "x = torch.from_numpy(complex_data)\n",
    "y = x.cuda()\n",
    "\n",
    "print(y.dtype)\n",
    "\n",
    "cpu_torch_correlate = torch.fft.ifft((torch.fft.fft(y, n=M+N-1))*torch.conj(torch.fft.fft(y, n=M+N-1)))\n",
    "\n",
    "end_time = timeit.default_timer()\n",
    "duration = end_time - start_time\n",
    "print(f\"运行时长: {duration} 秒\")\n",
    "\n",
    "# 50w个点快了一些"
   ]
  }
 ],
 "metadata": {
  "kernelspec": {
   "display_name": "corr_gpu",
   "language": "python",
   "name": "python3"
  },
  "language_info": {
   "codemirror_mode": {
    "name": "ipython",
    "version": 3
   },
   "file_extension": ".py",
   "mimetype": "text/x-python",
   "name": "python",
   "nbconvert_exporter": "python",
   "pygments_lexer": "ipython3",
   "version": "3.11.5"
  },
  "orig_nbformat": 4,
  "vscode": {
   "interpreter": {
    "hash": "84cbfe431f4ea1b1d8b08a9d5b65f3c226fe579a33c75ef89ed908e0e564583f"
   }
  }
 },
 "nbformat": 4,
 "nbformat_minor": 2
}
