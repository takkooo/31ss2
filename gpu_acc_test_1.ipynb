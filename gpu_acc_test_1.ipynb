{
 "cells": [
  {
   "cell_type": "code",
   "execution_count": 1,
   "metadata": {},
   "outputs": [],
   "source": [
    "import cupy as cp\n",
    "from cupyx.scipy import signal\n",
    "import pickle\n",
    "import timeit\n",
    "import numpy as np"
   ]
  },
  {
   "cell_type": "code",
   "execution_count": 2,
   "metadata": {},
   "outputs": [
    {
     "name": "stdout",
     "output_type": "stream",
     "text": [
      "dict_keys(['data_list', 'gps_lock_flag', 'real_lat', 'real_lon', 'real_alt'])\n",
      "complex64\n",
      "5000000\n",
      "complex64\n",
      "5000000\n"
     ]
    }
   ],
   "source": [
    "with open('data\\\\180007_1695193424_2023-09-20_15-03-44.pkl', 'rb') as f:\n",
    "    data = pickle.load(f)\n",
    "    \n",
    "print(data.keys())\n",
    "complex_data_cpu = data['data_list'][0][\"recv_data\"]\n",
    "print(complex_data_cpu.dtype)\n",
    "print(complex_data_cpu.shape[0])\n",
    "# complex_data_cpu = complex_data_cpu[20000:520000]\n",
    "complex_data = cp.asarray(complex_data_cpu)\n",
    "print(complex_data.dtype)\n",
    "print(complex_data.shape[0])"
   ]
  },
  {
   "cell_type": "code",
   "execution_count": 3,
   "metadata": {},
   "outputs": [
    {
     "name": "stdout",
     "output_type": "stream",
     "text": [
      "运行时长: 0.17508039999984248 秒\n"
     ]
    }
   ],
   "source": [
    "start_time = timeit.default_timer()\n",
    "\n",
    "for i in range(1,200):\n",
    "    scipy_correlate = signal.correlate(complex_data[i:500000+i], complex_data[i:500000+i], mode='full')\n",
    "\n",
    "end_time = timeit.default_timer()\n",
    "duration = end_time - start_time\n",
    "print(f\"运行时长: {duration} 秒\")"
   ]
  }
 ],
 "metadata": {
  "kernelspec": {
   "display_name": "numpygpu",
   "language": "python",
   "name": "python3"
  },
  "language_info": {
   "codemirror_mode": {
    "name": "ipython",
    "version": 3
   },
   "file_extension": ".py",
   "mimetype": "text/x-python",
   "name": "python",
   "nbconvert_exporter": "python",
   "pygments_lexer": "ipython3",
   "version": "3.11.5"
  },
  "orig_nbformat": 4,
  "vscode": {
   "interpreter": {
    "hash": "af87c685d82d691acd39521b6c92b55e33540bd45c3c12cb057d38841a98d4c7"
   }
  }
 },
 "nbformat": 4,
 "nbformat_minor": 2
}
